{
 "cells": [
  {
   "cell_type": "code",
   "execution_count": null,
   "metadata": {},
   "outputs": [],
   "source": [
    "from IPython.display import HTML\n",
    "\n",
    "HTML('''<script>\n",
    "code_show=true; \n",
    "function code_toggle() {\n",
    " if (code_show){\n",
    " $('div.input').hide();\n",
    " } else {\n",
    " $('div.input').show();\n",
    " }\n",
    " code_show = !code_show\n",
    "} \n",
    "$( document ).ready(code_toggle);\n",
    "</script>''')"
   ]
  },
  {
   "cell_type": "markdown",
   "metadata": {},
   "source": [
    "# Analysis Report for the WeRateDogs Project\n",
    "## by Oluwasola Oyinloye\n",
    "\n",
    "Date: September 01, 2022\n",
    "After having gathered, assessed and cleaned WeRateDogs twitter data I conducted some analysis on the dataset to establish some insights. The final twitter archives master dataset had features like favourite count, retweet count, tweet text, dog type, image url, prediction for the images, etc.\n",
    "\n",
    "Out of all the features in the dataset the features of interest to me were source of the tweet, common dog names.\n",
    "I found out that most of the tweet were from the Iphone device which suggested that majority were iphone users, and also there seems to be common dogs names like Charlie, Oliver, Lucy, Cooper, Penny.\n",
    "In terms of dog types, floofers and puppos had higher average ratings as compared to doggos and puppers. Though this can also be attributed to the fact that the number of dogs classified as floofers and puppos was a lot less than the number of dogs classified as doggos and puppers.\n",
    "\n",
    "Let's move on to some visualization where i observe that the popular dog type is pupper with the value 264, doggo is 93, puppo is 37, and floofer been the least with value 4"
   ]
  },
  {
   "cell_type": "code",
   "execution_count": 2,
   "metadata": {},
   "outputs": [
    {
     "data": {
      "image/png": "[encoded data removed]",
      "text/plain": [
       "<Figure size 432x576 with 1 Axes>"
      ]
     },
     "metadata": {
      "needs_background": "light"
     },
     "output_type": "display_data"
    }
   ],
   "source": [
    "import pandas as pd\n",
    "import matplotlib.pyplot as plt\n",
    "%matplotlib inline\n",
    "\n",
    "# read the cleaned twitter archive files for analysis.\n",
    "twitter = pd.read_csv('data/twitter_archive_master.csv')\n",
    "\n",
    "# creating the bar plot\n",
    "pd.value_counts(twitter.dog_type).plot.bar(rot=0, figsize=(6,8))\n",
    "plt.xlabel(\"Dog types\")\n",
    "plt.ylabel(\"Counts of dog type\")\n",
    "plt.title(\"Most common Dog type\")\n",
    "plt.show();"
   ]
  }
 ],
 "metadata": {
  "kernelspec": {
   "display_name": "Python 3",
   "language": "python",
   "name": "python3"
  },
  "language_info": {
   "codemirror_mode": {
    "name": "ipython",
    "version": 3
   },
   "file_extension": ".py",
   "mimetype": "text/x-python",
   "name": "python",
   "nbconvert_exporter": "python",
   "pygments_lexer": "ipython3",
   "version": "3.8.5"
  }
 },
 "nbformat": 4,
 "nbformat_minor": 2
}
